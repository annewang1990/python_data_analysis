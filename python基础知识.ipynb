{
 "cells": [
  {
   "cell_type": "raw",
   "metadata": {},
   "source": [
    "##### python基础知识###\n",
    "一、python基本概念\n",
    "1.1、数据类型 \n",
    "1.2、变量\n",
    "1.3、标识符\n",
    "1.4、输出与输出格式设置\n",
    "1.5、缩进与注释\n",
    "1.6、本关作业\n",
    "二、python数据结构\n",
    "2.1、列表\n",
    "2.2、字典\n",
    "2.3、元组\n",
    "2.4、本关作业\n",
    "三、python运算语句\n",
    "3.1、运算符\n",
    "3.2、循环语句\n",
    "3.3、条件语句\n",
    "3.4、函数\n",
    "3.5、高级特性\n",
    "3.6、本关作业\n",
    "四、python重要模块\n",
    "4.1、Pandas数据结构\n",
    "4.1.1、Series数据结构\n",
    "4.1.2、DataFrame数据结构\n",
    "4.1.3、本关作业\n",
    "4.2、Numpy数组"
   ]
  },
  {
   "cell_type": "markdown",
   "metadata": {},
   "source": [
    "# 一、python基本概念"
   ]
  },
  {
   "cell_type": "markdown",
   "metadata": {},
   "source": [
    "## 1.1、数据类型 "
   ]
  },
  {
   "cell_type": "markdown",
   "metadata": {},
   "source": [
    "python的数据类型主要有数字和字符串两种，数字即我们常用的数值型数字，分int和float两种；字符串指用单引号或双引号括起来的数据。可用type函数来查看数据类型。"
   ]
  },
  {
   "cell_type": "code",
   "execution_count": 1,
   "metadata": {},
   "outputs": [
    {
     "data": {
      "text/plain": [
       "float"
      ]
     },
     "execution_count": 1,
     "metadata": {},
     "output_type": "execute_result"
    }
   ],
   "source": [
    "type(1.0)"
   ]
  },
  {
   "cell_type": "code",
   "execution_count": 2,
   "metadata": {},
   "outputs": [
    {
     "data": {
      "text/plain": [
       "str"
      ]
     },
     "execution_count": 2,
     "metadata": {},
     "output_type": "execute_result"
    }
   ],
   "source": [
    "type(\"hello world\")"
   ]
  },
  {
   "cell_type": "markdown",
   "metadata": {},
   "source": [
    "（1）字符串的连接"
   ]
  },
  {
   "cell_type": "code",
   "execution_count": 6,
   "metadata": {},
   "outputs": [
    {
     "name": "stdout",
     "output_type": "stream",
     "text": [
      "王安妮\n"
     ]
    }
   ],
   "source": [
    "s=\"王\" + \"安妮\"\n",
    "print s"
   ]
  },
  {
   "cell_type": "markdown",
   "metadata": {},
   "source": [
    "使用这种方式进行字符串连接的操作效率低下，因为python中使用 + 拼接两个字符串时会生成一个新的字符串，生成新的字符串就需要重新申请内存，当拼接字符串较多时自然会影响效率.拓展可查看python中字符串拼接的 N 种方法 http://python.jobbole.com/89250/"
   ]
  },
  {
   "cell_type": "markdown",
   "metadata": {},
   "source": [
    "(2)字符串的复制"
   ]
  },
  {
   "cell_type": "code",
   "execution_count": 8,
   "metadata": {},
   "outputs": [
    {
     "name": "stdout",
     "output_type": "stream",
     "text": [
      "我一定能学会python我一定能学会python我一定能学会python\n"
     ]
    }
   ],
   "source": [
    "s1=\"我一定能学会python\"*3\n",
    "print s1"
   ]
  },
  {
   "cell_type": "markdown",
   "metadata": {},
   "source": [
    "(3)获取字符串的长度"
   ]
  },
  {
   "cell_type": "code",
   "execution_count": 9,
   "metadata": {},
   "outputs": [
    {
     "data": {
      "text/plain": [
       "11"
      ]
     },
     "execution_count": 9,
     "metadata": {},
     "output_type": "execute_result"
    }
   ],
   "source": [
    "len('13028736217')"
   ]
  },
  {
   "cell_type": "markdown",
   "metadata": {},
   "source": [
    "(4)字符串的查找"
   ]
  },
  {
   "cell_type": "code",
   "execution_count": 10,
   "metadata": {},
   "outputs": [
    {
     "data": {
      "text/plain": [
       "True"
      ]
     },
     "execution_count": 10,
     "metadata": {},
     "output_type": "execute_result"
    }
   ],
   "source": [
    "'测试' in '新产品上线测试号'"
   ]
  },
  {
   "cell_type": "code",
   "execution_count": 12,
   "metadata": {},
   "outputs": [
    {
     "data": {
      "text/plain": [
       "True"
      ]
     },
     "execution_count": 12,
     "metadata": {},
     "output_type": "execute_result"
    }
   ],
   "source": [
    "'测试' not in '正常新产品'"
   ]
  },
  {
   "cell_type": "markdown",
   "metadata": {},
   "source": [
    "除了in 和 not in，还可以find,存在返回具体位置，不存在返回-1"
   ]
  },
  {
   "cell_type": "code",
   "execution_count": 22,
   "metadata": {},
   "outputs": [
    {
     "data": {
      "text/plain": [
       "15"
      ]
     },
     "execution_count": 22,
     "metadata": {},
     "output_type": "execute_result"
    }
   ],
   "source": [
    "\"新产品上线测试号\".find(\"测试\")"
   ]
  },
  {
   "cell_type": "code",
   "execution_count": 23,
   "metadata": {},
   "outputs": [
    {
     "data": {
      "text/plain": [
       "-1"
      ]
     },
     "execution_count": 23,
     "metadata": {},
     "output_type": "execute_result"
    }
   ],
   "source": [
    "\"新产品上线号\".find(\"测试\")"
   ]
  },
  {
   "cell_type": "code",
   "execution_count": 24,
   "metadata": {},
   "outputs": [
    {
     "data": {
      "text/plain": [
       "2"
      ]
     },
     "execution_count": 24,
     "metadata": {},
     "output_type": "execute_result"
    }
   ],
   "source": [
    "\"Abcd\".find(\"cd\")"
   ]
  },
  {
   "cell_type": "markdown",
   "metadata": {},
   "source": [
    "(5)字符串的索引"
   ]
  },
  {
   "cell_type": "markdown",
   "metadata": {},
   "source": [
    "字符串的索引是指通过字符串中值所处的位置对值进行选取，字符串的位置是从0开始的，倒序是从-1开始的"
   ]
  },
  {
   "cell_type": "code",
   "execution_count": 27,
   "metadata": {},
   "outputs": [
    {
     "name": "stdout",
     "output_type": "stream",
     "text": [
      "p\n"
     ]
    }
   ],
   "source": [
    "s2=\"python数据分析\"\n",
    "print s2[0]"
   ]
  },
  {
   "cell_type": "code",
   "execution_count": 28,
   "metadata": {},
   "outputs": [
    {
     "name": "stdout",
     "output_type": "stream",
     "text": [
      "yt\n"
     ]
    }
   ],
   "source": [
    "s2=\"python数据分析\"\n",
    "print s2[1:3]"
   ]
  },
  {
   "cell_type": "code",
   "execution_count": 29,
   "metadata": {},
   "outputs": [
    {
     "name": "stdout",
     "output_type": "stream",
     "text": [
      "数据分析\n"
     ]
    }
   ],
   "source": [
    "s2=\"python数据分析\"\n",
    "print s2[6:]"
   ]
  },
  {
   "cell_type": "code",
   "execution_count": 34,
   "metadata": {},
   "outputs": [
    {
     "name": "stdout",
     "output_type": "stream",
     "text": [
      "析\n"
     ]
    }
   ],
   "source": [
    "s2=u\"python数据分析\"\n",
    "print s2[-1]"
   ]
  },
  {
   "cell_type": "markdown",
   "metadata": {},
   "source": [
    "（6）字符串分割"
   ]
  },
  {
   "cell_type": "code",
   "execution_count": 35,
   "metadata": {},
   "outputs": [
    {
     "data": {
      "text/plain": [
       "['a', 'b', 'c']"
      ]
     },
     "execution_count": 35,
     "metadata": {},
     "output_type": "execute_result"
    }
   ],
   "source": [
    "'a|b|c'.split('|')"
   ]
  },
  {
   "cell_type": "markdown",
   "metadata": {},
   "source": [
    "(7)移除字符"
   ]
  },
  {
   "cell_type": "code",
   "execution_count": 36,
   "metadata": {},
   "outputs": [
    {
     "data": {
      "text/plain": [
       "'a'"
      ]
     },
     "execution_count": 36,
     "metadata": {},
     "output_type": "execute_result"
    }
   ],
   "source": [
    "#移除空格\n",
    "\" a \".strip()"
   ]
  },
  {
   "cell_type": "code",
   "execution_count": 37,
   "metadata": {},
   "outputs": [
    {
     "data": {
      "text/plain": [
       "'a'"
      ]
     },
     "execution_count": 37,
     "metadata": {},
     "output_type": "execute_result"
    }
   ],
   "source": [
    "#移除指定字符\n",
    "\"AaA\".strip('A')"
   ]
  },
  {
   "cell_type": "markdown",
   "metadata": {},
   "source": [
    "## 1.2 变量"
   ]
  },
  {
   "cell_type": "markdown",
   "metadata": {},
   "source": [
    "变量可以理解成一个容器，存放可以变化的量。\n",
    "变量名必须以字母或下划线开始；唯一；不能是关键词；区分大小写。\n",
    "关键词：and as assert break class continue def del elif else except finally for from global if import in is lambda not or pass raise return try while with yield"
   ]
  },
  {
   "cell_type": "markdown",
   "metadata": {},
   "source": [
    "## 1.3 标识符"
   ]
  },
  {
   "cell_type": "markdown",
   "metadata": {},
   "source": [
    "是用来标识某样东西名字，命名规则同变量名命名规则。"
   ]
  },
  {
   "cell_type": "markdown",
   "metadata": {},
   "source": [
    "## 1.4 输入与输出格式设置"
   ]
  },
  {
   "cell_type": "code",
   "execution_count": 38,
   "metadata": {},
   "outputs": [
    {
     "name": "stdout",
     "output_type": "stream",
     "text": [
      "我正在学习python数据分析中的python基础知识\n"
     ]
    }
   ],
   "source": [
    "#填充输出 print('str1{}str2{}'.format('str11','str22'))\n",
    "print('我正在学习{}中的{}'.format('python数据分析','python基础知识'))"
   ]
  },
  {
   "cell_type": "code",
   "execution_count": 39,
   "metadata": {},
   "outputs": [
    {
     "name": "stdout",
     "output_type": "stream",
     "text": [
      "中国人口约15.00亿\n"
     ]
    }
   ],
   "source": [
    "#浮点数设置 print('str1{}str2{:.nf}'.format('str11',数字))  .nf表示以浮点数显示，且显示到小数点后n位\n",
    "print('中国{}约{:.2f}亿'.format('人口',15))"
   ]
  },
  {
   "cell_type": "code",
   "execution_count": 41,
   "metadata": {},
   "outputs": [
    {
     "name": "stdout",
     "output_type": "stream",
     "text": [
      "中国男性占总人口比例约51.900%\n"
     ]
    }
   ],
   "source": [
    "#百分数设置 print('str1{}str2{:.n%}'.format('str11',数字))  .n%表示以百分数显示，且显示到小数点后n位\n",
    "print('中国{}约{:.3%}'.format('男性占总人口比例',0.519))"
   ]
  },
  {
   "cell_type": "markdown",
   "metadata": {},
   "source": [
    "## 1.5、缩进与注释"
   ]
  },
  {
   "cell_type": "code",
   "execution_count": 42,
   "metadata": {},
   "outputs": [
    {
     "name": "stdout",
     "output_type": "stream",
     "text": [
      "a比b大\n"
     ]
    }
   ],
   "source": [
    "#缩进的目的是为了让程序知道该运行哪一部分，python中的函数、条件语句、循环语句的语句块都需要缩进\n",
    "a=2\n",
    "b=1\n",
    "if a>b:\n",
    "    print('a比b大')"
   ]
  },
  {
   "cell_type": "markdown",
   "metadata": {},
   "source": [
    "注释对代码起到说明作用，并不真正运行，单行注释以#开头，多行注释用''' '''实现"
   ]
  },
  {
   "cell_type": "markdown",
   "metadata": {},
   "source": [
    "## 1.6 本关作业"
   ]
  },
  {
   "cell_type": "code",
   "execution_count": 43,
   "metadata": {},
   "outputs": [
    {
     "name": "stdout",
     "output_type": "stream",
     "text": [
      "123\n"
     ]
    }
   ],
   "source": [
    "#1、哪些字符不能做变量名： bottle（df）sum variable (def) a (for) last_num\n",
    "#2、变量名Data 与 data 是否相同---不同\n",
    "#3、把值123赋值给变量a怎么写？\n",
    "a=123\n",
    "print a"
   ]
  },
  {
   "cell_type": "code",
   "execution_count": 44,
   "metadata": {},
   "outputs": [
    {
     "name": "stdout",
     "output_type": "stream",
     "text": [
      "456\n"
     ]
    }
   ],
   "source": [
    "#4 先运行a=123，再运行a=456，此时a=？\n",
    "a=123\n",
    "a=456\n",
    "print a"
   ]
  },
  {
   "cell_type": "code",
   "execution_count": 45,
   "metadata": {},
   "outputs": [
    {
     "data": {
      "text/plain": [
       "float"
      ]
     },
     "execution_count": 45,
     "metadata": {},
     "output_type": "execute_result"
    }
   ],
   "source": [
    "#5 查看数据的类型怎么看？\n",
    "type(1.0)"
   ]
  },
  {
   "cell_type": "code",
   "execution_count": 46,
   "metadata": {},
   "outputs": [
    {
     "name": "stdout",
     "output_type": "stream",
     "text": [
      "python\n"
     ]
    }
   ],
   "source": [
    "#6 对输出格式可以使用什么方法 ---.format\n",
    "#7 python中哪些操作要缩进 ---函数、条件语句、循环语句的语句块\n",
    "#8 下面哪些表示不是字符串 ---123，因为没有''或\"\"\n",
    "#9 把字符串python赋值给变量d\n",
    "d='python'\n",
    "print d"
   ]
  },
  {
   "cell_type": "code",
   "execution_count": 47,
   "metadata": {},
   "outputs": [
    {
     "name": "stdout",
     "output_type": "stream",
     "text": [
      "我正在学习python基础知识\n"
     ]
    }
   ],
   "source": [
    "#10 把‘我’、‘正在’、‘学习’、‘python基础知识’连接成一个字符串\n",
    "s='我'+'正在'+'学习'+'python基础知识'\n",
    "print s"
   ]
  },
  {
   "cell_type": "code",
   "execution_count": 48,
   "metadata": {},
   "outputs": [
    {
     "name": "stdout",
     "output_type": "stream",
     "text": [
      "我-正在-学习-python基础知识\n"
     ]
    }
   ],
   "source": [
    "#11 把‘我’、‘正在’、‘学习’、‘python基础知识’用横杆-连接成一个字符串\n",
    "s='我'+'-'+'正在'+'-'+'学习'+'-'+'python基础知识'\n",
    "print s"
   ]
  },
  {
   "cell_type": "code",
   "execution_count": 50,
   "metadata": {},
   "outputs": [
    {
     "name": "stdout",
     "output_type": "stream",
     "text": [
      "D\n",
      "CDE\n"
     ]
    }
   ],
   "source": [
    "#12-13 字符串‘ABCDEFGH’第3、2-5位之间的值是多少\n",
    "a='ABCDEFGH'\n",
    "print a[3]\n",
    "print a[2:5]"
   ]
  },
  {
   "cell_type": "code",
   "execution_count": 52,
   "metadata": {},
   "outputs": [
    {
     "data": {
      "text/plain": [
       "False"
      ]
     },
     "execution_count": 52,
     "metadata": {},
     "output_type": "execute_result"
    }
   ],
   "source": [
    "#14 判断下列账号是否为测试账号\n",
    "'测试' in '华南地区专属账号'"
   ]
  },
  {
   "cell_type": "code",
   "execution_count": 53,
   "metadata": {},
   "outputs": [
    {
     "data": {
      "text/plain": [
       "True"
      ]
     },
     "execution_count": 53,
     "metadata": {},
     "output_type": "execute_result"
    }
   ],
   "source": [
    "'测试' in '产品上线测试专用号'"
   ]
  },
  {
   "cell_type": "code",
   "execution_count": 57,
   "metadata": {},
   "outputs": [
    {
     "data": {
      "text/plain": [
       "'python1'"
      ]
     },
     "execution_count": 57,
     "metadata": {},
     "output_type": "execute_result"
    }
   ],
   "source": [
    "#15 去除特殊符号\n",
    "\" python1\".strip()"
   ]
  },
  {
   "cell_type": "code",
   "execution_count": 58,
   "metadata": {},
   "outputs": [
    {
     "data": {
      "text/plain": [
       "'Python2'"
      ]
     },
     "execution_count": 58,
     "metadata": {},
     "output_type": "execute_result"
    }
   ],
   "source": [
    "\"Python2\\n\".strip()"
   ]
  },
  {
   "cell_type": "code",
   "execution_count": 59,
   "metadata": {},
   "outputs": [
    {
     "data": {
      "text/plain": [
       "'python3'"
      ]
     },
     "execution_count": 59,
     "metadata": {},
     "output_type": "execute_result"
    }
   ],
   "source": [
    "\"\\tpython3\".strip()"
   ]
  },
  {
   "cell_type": "code",
   "execution_count": 60,
   "metadata": {},
   "outputs": [
    {
     "data": {
      "text/plain": [
       "12"
      ]
     },
     "execution_count": 60,
     "metadata": {},
     "output_type": "execute_result"
    }
   ],
   "source": [
    "#16 下列字符串的长度是多少？\n",
    "len('数据分析')"
   ]
  },
  {
   "cell_type": "code",
   "execution_count": 63,
   "metadata": {},
   "outputs": [
    {
     "data": {
      "text/plain": [
       "5"
      ]
     },
     "execution_count": 63,
     "metadata": {},
     "output_type": "execute_result"
    }
   ],
   "source": [
    "len('Excel')"
   ]
  },
  {
   "cell_type": "code",
   "execution_count": 62,
   "metadata": {},
   "outputs": [
    {
     "data": {
      "text/plain": [
       "5"
      ]
     },
     "execution_count": 62,
     "metadata": {},
     "output_type": "execute_result"
    }
   ],
   "source": [
    "len('12306')"
   ]
  },
  {
   "cell_type": "markdown",
   "metadata": {},
   "source": [
    "# 二、python数据结构"
   ]
  },
  {
   "cell_type": "markdown",
   "metadata": {},
   "source": [
    "## 2.1 列表"
   ]
  },
  {
   "cell_type": "markdown",
   "metadata": {},
   "source": [
    "列表list ['abc',123] 是用来存储一组有序数据元素的数据结构，元素之间用逗号隔开；列表是可变的数据类型，可以添加、删除或搜索列表中的元素；列表中的元素可以是int型，也可以是str型"
   ]
  },
  {
   "cell_type": "code",
   "execution_count": 64,
   "metadata": {
    "collapsed": true
   },
   "outputs": [],
   "source": [
    "#建一个空列表#\n",
    "null_list = []"
   ]
  },
  {
   "cell_type": "code",
   "execution_count": 131,
   "metadata": {
    "collapsed": true
   },
   "outputs": [],
   "source": [
    "#建一个int+str类型列表\n",
    "list_a=[1,'a',2,'b']"
   ]
  },
  {
   "cell_type": "code",
   "execution_count": 132,
   "metadata": {},
   "outputs": [
    {
     "name": "stdout",
     "output_type": "stream",
     "text": [
      "[1, 2, 3, 1, 2, 3, 1, 2, 3]\n",
      "['a', 'b', 'c', 'a', 'b', 'c', 'a', 'b', 'c']\n"
     ]
    }
   ],
   "source": [
    "#列表的复制#\n",
    "list1=[1,2,3]\n",
    "print list1*3\n",
    "list2=['a','b','c']\n",
    "print list2*3"
   ]
  },
  {
   "cell_type": "code",
   "execution_count": 133,
   "metadata": {},
   "outputs": [
    {
     "name": "stdout",
     "output_type": "stream",
     "text": [
      "[1, 2, 3, 'a', 'b', 'c']\n",
      "['a', 'b', 'c', 1, 2, 3]\n"
     ]
    }
   ],
   "source": [
    "#列表的合并---可用+操作符，extend()函数#\n",
    "list1=[1,2,3]\n",
    "list2=['a','b','c']\n",
    "print list1+list2\n",
    "print list2+list1"
   ]
  },
  {
   "cell_type": "code",
   "execution_count": 78,
   "metadata": {},
   "outputs": [
    {
     "name": "stdout",
     "output_type": "stream",
     "text": [
      "[1, 2, 3, 'a', 'b', 'c']\n"
     ]
    }
   ],
   "source": [
    "a=[1,2,3]\n",
    "b=[\"a\",\"b\",\"c\"]\n",
    "a.extend(b)\n",
    "print a"
   ]
  },
  {
   "cell_type": "code",
   "execution_count": 79,
   "metadata": {},
   "outputs": [
    {
     "name": "stdout",
     "output_type": "stream",
     "text": [
      "[1, 2, 3, 4]\n"
     ]
    }
   ],
   "source": [
    "#向列表中插入新元素#\n",
    "#append()函数和insert()函数，这两个函数都会直接改变原列表，不会直接输出结果，需要调用原列表的列表名来获取变更之后的列表\n",
    "#append()函数是在列表末尾插入新的数据元素\n",
    "a=[1,2,3]\n",
    "a.append(4)\n",
    "print a"
   ]
  },
  {
   "cell_type": "code",
   "execution_count": 80,
   "metadata": {},
   "outputs": [
    {
     "name": "stdout",
     "output_type": "stream",
     "text": [
      "[1, 2, 4, 3]\n"
     ]
    }
   ],
   "source": [
    "#insert()函数是在指定位置插入新的数据元素\n",
    "a=[1,2,3]\n",
    "a.insert(2,4)\n",
    "print a"
   ]
  },
  {
   "cell_type": "code",
   "execution_count": 99,
   "metadata": {},
   "outputs": [
    {
     "data": {
      "text/plain": [
       "3"
      ]
     },
     "execution_count": 99,
     "metadata": {},
     "output_type": "execute_result"
    }
   ],
   "source": [
    "#获取列表中值出现的次数---count()函数#\n",
    "a=['1班','2班','1班','3班','1班']\n",
    "a.count('1班')"
   ]
  },
  {
   "cell_type": "code",
   "execution_count": 100,
   "metadata": {},
   "outputs": [
    {
     "data": {
      "text/plain": [
       "2"
      ]
     },
     "execution_count": 100,
     "metadata": {},
     "output_type": "execute_result"
    }
   ],
   "source": [
    "#获取列表中值出现的位置---index()函数#\n",
    "a=['1班','2班','3班','4班','5班']\n",
    "a.index('3班')"
   ]
  },
  {
   "cell_type": "code",
   "execution_count": 101,
   "metadata": {},
   "outputs": [
    {
     "name": "stdout",
     "output_type": "stream",
     "text": [
      "4班\n"
     ]
    }
   ],
   "source": [
    "#获取列表中指定位置的值---同字符串，主要有普通索引和切片索引两种#\n",
    "#普通索引是获取某一特定位置的数\n",
    "a=['1班','2班','3班','4班','5班']\n",
    "print a[3]"
   ]
  },
  {
   "cell_type": "code",
   "execution_count": 27,
   "metadata": {},
   "outputs": [
    {
     "data": {
      "text/plain": [
       "'3\\xe7\\x8f\\xad'"
      ]
     },
     "execution_count": 27,
     "metadata": {},
     "output_type": "execute_result"
    }
   ],
   "source": [
    "#切片索引是获取某一位置区间内的数\n",
    "# -*- coding:utf-8 -*-\n",
    "a=[\"1班\",\"2班\",\"3班\",\"4班\",\"5班\"]\n",
    "a[2]"
   ]
  },
  {
   "cell_type": "code",
   "execution_count": 25,
   "metadata": {},
   "outputs": [
    {
     "data": {
      "text/plain": [
       "['1', '2', '4', '5']"
      ]
     },
     "execution_count": 25,
     "metadata": {},
     "output_type": "execute_result"
    }
   ],
   "source": [
    "##删除列表中的值---pop()与remove()函数\n",
    "#pop()函数是根据列表中的位置进行删除\n",
    "a=['1','2','3','4','5']\n",
    "a.pop(2)\n",
    "a"
   ]
  },
  {
   "cell_type": "code",
   "execution_count": 16,
   "metadata": {},
   "outputs": [
    {
     "data": {
      "text/plain": [
       "['a', 'b', 'd', 'e']"
      ]
     },
     "execution_count": 16,
     "metadata": {},
     "output_type": "execute_result"
    }
   ],
   "source": [
    "#remove()函数是根据列表中的元素进行删除\n",
    "a=['a','b','c','d','e']\n",
    "a.remove('c')\n",
    "a"
   ]
  },
  {
   "cell_type": "code",
   "execution_count": 17,
   "metadata": {},
   "outputs": [
    {
     "data": {
      "text/plain": [
       "['a', 'b', 'c', 'd', 'e']"
      ]
     },
     "execution_count": 17,
     "metadata": {},
     "output_type": "execute_result"
    }
   ],
   "source": [
    "##对列表中的值进行排序---sort()函数，默认是升序排序\n",
    "a=['a','c','d','b','e']\n",
    "a.sort()\n",
    "a"
   ]
  },
  {
   "cell_type": "markdown",
   "metadata": {},
   "source": [
    "## 2.2 字典"
   ]
  },
  {
   "cell_type": "markdown",
   "metadata": {},
   "source": [
    "字典dict{key1:value1,key2:value2}是一种键值对的结构，类似于通过用户ID查找用户详细信息的用户表，即把键（名字）和值（详细信息）联系在一起，注意键必须是唯一的。"
   ]
  },
  {
   "cell_type": "code",
   "execution_count": 115,
   "metadata": {},
   "outputs": [
    {
     "name": "stdout",
     "output_type": "stream",
     "text": [
      "{'1002': 18075166217, '1001': 15823609856}\n"
     ]
    }
   ],
   "source": [
    "#新建一个字典\n",
    "dict_a = {}\n",
    "dict_a['1001'] = 15823609856\n",
    "dict_a['1002'] = 18075166217\n",
    "print dict_a"
   ]
  },
  {
   "cell_type": "code",
   "execution_count": 119,
   "metadata": {},
   "outputs": [
    {
     "name": "stdout",
     "output_type": "stream",
     "text": [
      "['1002', '1001']\n",
      "[18075166217, 15823609856]\n",
      "[('1002', 18075166217), ('1001', 15823609856)]\n"
     ]
    }
   ],
   "source": [
    "#获取字典的键-keys(),获取字典的值-values(),获取字典的键值-items()\n",
    "print dict_a.keys()\n",
    "print dict_a.values()\n",
    "print dict_a.items()"
   ]
  },
  {
   "cell_type": "markdown",
   "metadata": {},
   "source": [
    "## 2.3 元组"
   ]
  },
  {
   "cell_type": "markdown",
   "metadata": {},
   "source": [
    "元组tuple(123,'abc')与列表相似，但是列表的元素可以修改，而元组的元素不能修改；列表用[]，元组用（）。"
   ]
  },
  {
   "cell_type": "code",
   "execution_count": 120,
   "metadata": {},
   "outputs": [
    {
     "data": {
      "text/plain": [
       "(123, 'abc')"
      ]
     },
     "execution_count": 120,
     "metadata": {},
     "output_type": "execute_result"
    }
   ],
   "source": [
    "#新建一个元组\n",
    "tuple_a =(123,'abc')\n",
    "tuple_a"
   ]
  },
  {
   "cell_type": "code",
   "execution_count": 121,
   "metadata": {},
   "outputs": [
    {
     "data": {
      "text/plain": [
       "2"
      ]
     },
     "execution_count": 121,
     "metadata": {},
     "output_type": "execute_result"
    }
   ],
   "source": [
    "#获取元组的长度---len()\n",
    "tuple_a =(123,'abc')\n",
    "len(tuple_a)"
   ]
  },
  {
   "cell_type": "code",
   "execution_count": 31,
   "metadata": {},
   "outputs": [
    {
     "ename": "SyntaxError",
     "evalue": "Missing parentheses in call to 'print'. Did you mean print(tuple_b[2])? (<ipython-input-31-86356f052e4e>, line 3)",
     "output_type": "error",
     "traceback": [
      "\u001b[0;36m  File \u001b[0;32m\"<ipython-input-31-86356f052e4e>\"\u001b[0;36m, line \u001b[0;32m3\u001b[0m\n\u001b[0;31m    print tuple_b[2]\u001b[0m\n\u001b[0m                ^\u001b[0m\n\u001b[0;31mSyntaxError\u001b[0m\u001b[0;31m:\u001b[0m Missing parentheses in call to 'print'. Did you mean print(tuple_b[2])?\n"
     ]
    }
   ],
   "source": [
    "#获取元组内的元素\n",
    "tuple_b =(123,'abc',456,'李三')\n",
    "print tuple_b[2]\n",
    "print tuple_b[2:]"
   ]
  },
  {
   "cell_type": "code",
   "execution_count": 1,
   "metadata": {},
   "outputs": [
    {
     "data": {
      "text/plain": [
       "[3, 4, 5, 6]"
      ]
     },
     "execution_count": 1,
     "metadata": {},
     "output_type": "execute_result"
    }
   ],
   "source": [
    "#元组与列表相互转换\n",
    "#使用list()将元组转化为列表\n",
    "tuple_c =(3,4,5,6)\n",
    "list(tuple_c)"
   ]
  },
  {
   "cell_type": "code",
   "execution_count": 135,
   "metadata": {},
   "outputs": [
    {
     "data": {
      "text/plain": [
       "(1, 2, 3, 4)"
      ]
     },
     "execution_count": 135,
     "metadata": {},
     "output_type": "execute_result"
    }
   ],
   "source": [
    "#使用tuple()将列表转化为元组\n",
    "list_c=[1,2,3,4]\n",
    "tuple(list_c)"
   ]
  },
  {
   "cell_type": "code",
   "execution_count": 39,
   "metadata": {},
   "outputs": [
    {
     "data": {
      "text/plain": [
       "[(1, 'a'), (2, 'b'), (3, 'c'), (4, 'd')]"
      ]
     },
     "execution_count": 39,
     "metadata": {},
     "output_type": "execute_result"
    }
   ],
   "source": [
    "#zip()函数-用于将可迭代的对象（列表、元组）作为参数，将对象中的对应元素打包成一个个元组，然后返回这些元组组成的列表。\n",
    "#当可迭代对象是列表时\n",
    "list_a = [1,2,3,4]\n",
    "list_b = ['a','b','c','d']\n",
    "zipped = zip(list_a,list_b)\n",
    "list(zipped)\n",
    "#for i in zip(list_a,list_b):\n",
    "#    print (i)"
   ]
  },
  {
   "cell_type": "code",
   "execution_count": 41,
   "metadata": {},
   "outputs": [
    {
     "data": {
      "text/plain": [
       "[(1, 'a'), (2, 'b'), (3, 'c'), (4, 'd')]"
      ]
     },
     "execution_count": 41,
     "metadata": {},
     "output_type": "execute_result"
    }
   ],
   "source": [
    "#当可迭代对象是元组时\n",
    "list_a = (1,2,3,4)\n",
    "list_b = ('a','b','c','d')\n",
    "zipped_2 = zip(list_a,list_b)\n",
    "list(zipped_2)"
   ]
  },
  {
   "cell_type": "markdown",
   "metadata": {},
   "source": [
    "## 2.4 本关作业"
   ]
  },
  {
   "cell_type": "markdown",
   "metadata": {},
   "source": [
    "1、列表使用什么括号-[],字典使用什么括号-{},元组使用什么括号-()"
   ]
  },
  {
   "cell_type": "markdown",
   "metadata": {},
   "source": [
    "2、现在有一个空列表staff=[],分别用append和insert方法将张三、李四、王五、赵六放到该列表里"
   ]
  },
  {
   "cell_type": "code",
   "execution_count": 47,
   "metadata": {},
   "outputs": [
    {
     "data": {
      "text/plain": [
       "['1', '2', '3', '4']"
      ]
     },
     "execution_count": 47,
     "metadata": {},
     "output_type": "execute_result"
    }
   ],
   "source": [
    "staff=[]\n",
    "staff.append('1')\n",
    "staff.append('2')\n",
    "staff.append('3')\n",
    "staff.append('4')\n",
    "staff"
   ]
  },
  {
   "cell_type": "code",
   "execution_count": 50,
   "metadata": {},
   "outputs": [
    {
     "data": {
      "text/plain": [
       "['a', 'b', 'c', 'd']"
      ]
     },
     "execution_count": 50,
     "metadata": {},
     "output_type": "execute_result"
    }
   ],
   "source": [
    "staff_2=[]\n",
    "staff_2.insert(1,'a')\n",
    "staff_2.insert(2,'b')\n",
    "staff_2.insert(3,'c')\n",
    "staff_2.insert(3,'d')\n",
    "staff_2"
   ]
  },
  {
   "cell_type": "code",
   "execution_count": 51,
   "metadata": {},
   "outputs": [
    {
     "data": {
      "text/plain": [
       "2"
      ]
     },
     "execution_count": 51,
     "metadata": {},
     "output_type": "execute_result"
    }
   ],
   "source": [
    "#3、计算次数\n",
    "a=['A','B','A','C','D']\n",
    "a.count('A')"
   ]
  },
  {
   "cell_type": "code",
   "execution_count": 56,
   "metadata": {},
   "outputs": [
    {
     "data": {
      "text/plain": [
       "[6, 7, 9, 11]"
      ]
     },
     "execution_count": 56,
     "metadata": {},
     "output_type": "execute_result"
    }
   ],
   "source": [
    "#4、切片索引---算头不算尾，左从0开始，右从-1开始\n",
    "a=[3,4,5,6,7,9,11,13,15,17]\n",
    "a[3:7] #位置第3位到第6位"
   ]
  },
  {
   "cell_type": "code",
   "execution_count": 57,
   "metadata": {},
   "outputs": [
    {
     "data": {
      "text/plain": [
       "[3, 4, 5, 6, 7]"
      ]
     },
     "execution_count": 57,
     "metadata": {},
     "output_type": "execute_result"
    }
   ],
   "source": [
    "a[:5] #位置第0位到第4位"
   ]
  },
  {
   "cell_type": "code",
   "execution_count": 59,
   "metadata": {},
   "outputs": [
    {
     "data": {
      "text/plain": [
       "[1, 2, 5, 7, 8]"
      ]
     },
     "execution_count": 59,
     "metadata": {},
     "output_type": "execute_result"
    }
   ],
   "source": [
    "#5、列表升序\n",
    "a=[2,5,1,8,7]\n",
    "a.sort()\n",
    "a"
   ]
  },
  {
   "cell_type": "code",
   "execution_count": 61,
   "metadata": {},
   "outputs": [
    {
     "data": {
      "text/plain": [
       "['A', 'B', 'A', 'C']"
      ]
     },
     "execution_count": 61,
     "metadata": {},
     "output_type": "execute_result"
    }
   ],
   "source": [
    "#6、分别用两种方法删除列表a=['A','B','A','C','D']第四位\n",
    "a=['A','B','A','C','D']\n",
    "a.pop(4)\n",
    "a"
   ]
  },
  {
   "cell_type": "code",
   "execution_count": 62,
   "metadata": {},
   "outputs": [
    {
     "data": {
      "text/plain": [
       "['A', 'B', 'A', 'C']"
      ]
     },
     "execution_count": 62,
     "metadata": {},
     "output_type": "execute_result"
    }
   ],
   "source": [
    "a=['A','B','A','C','D']\n",
    "a.remove('D')\n",
    "a"
   ]
  },
  {
   "cell_type": "code",
   "execution_count": 64,
   "metadata": {},
   "outputs": [
    {
     "data": {
      "text/plain": [
       "[1, 2, 3, 1, 2, 3, 1, 2, 3]"
      ]
     },
     "execution_count": 64,
     "metadata": {},
     "output_type": "execute_result"
    }
   ],
   "source": [
    "#8、[1,2,3]*3=?\n",
    "list1=[1,2,3]\n",
    "list1*3"
   ]
  },
  {
   "cell_type": "code",
   "execution_count": 67,
   "metadata": {},
   "outputs": [
    {
     "data": {
      "text/plain": [
       "{'A': 1, 'B': 2, 'C': 3}"
      ]
     },
     "execution_count": 67,
     "metadata": {},
     "output_type": "execute_result"
    }
   ],
   "source": [
    "#9、新建一个字典score={'A':1,'B':2,'C':3}\n",
    "score={'A':1,'B':2,'C':3}\n",
    "score"
   ]
  },
  {
   "cell_type": "code",
   "execution_count": 68,
   "metadata": {},
   "outputs": [
    {
     "data": {
      "text/plain": [
       "{'A': 1, 'B': 2, 'C': 4}"
      ]
     },
     "execution_count": 68,
     "metadata": {},
     "output_type": "execute_result"
    }
   ],
   "source": [
    "#10、已知字典score_dict={'A':1,'B':2},运行score_dict['C']=4,则score_dict=？\n",
    "score_dict={'A':1,'B':2}\n",
    "score_dict['C']=4\n",
    "score_dict"
   ]
  },
  {
   "cell_type": "code",
   "execution_count": 69,
   "metadata": {},
   "outputs": [
    {
     "data": {
      "text/plain": [
       "['A', 'C', 'B']"
      ]
     },
     "execution_count": 69,
     "metadata": {},
     "output_type": "execute_result"
    }
   ],
   "source": [
    "#11-13 获取score_dict1={'A': 1, 'B': 2, 'C': 3}所有的键、值、键为C对应的值\n",
    "score_dict1={'A': 1, 'B': 2, 'C': 3}\n",
    "score_dict1.keys()"
   ]
  },
  {
   "cell_type": "code",
   "execution_count": 70,
   "metadata": {},
   "outputs": [
    {
     "data": {
      "text/plain": [
       "[1, 3, 2]"
      ]
     },
     "execution_count": 70,
     "metadata": {},
     "output_type": "execute_result"
    }
   ],
   "source": [
    "score_dict1.values()"
   ]
  },
  {
   "cell_type": "code",
   "execution_count": 71,
   "metadata": {},
   "outputs": [
    {
     "data": {
      "text/plain": [
       "3"
      ]
     },
     "execution_count": 71,
     "metadata": {},
     "output_type": "execute_result"
    }
   ],
   "source": [
    "score_dict1['C']"
   ]
  },
  {
   "cell_type": "code",
   "execution_count": 72,
   "metadata": {},
   "outputs": [
    {
     "data": {
      "text/plain": [
       "[1, 3, 4, 6, 8, 2]"
      ]
     },
     "execution_count": 72,
     "metadata": {},
     "output_type": "execute_result"
    }
   ],
   "source": [
    "#14、将元组(1,3,4,6,8,2)转化为列表\n",
    "tuple_a=(1,3,4,6,8,2)\n",
    "list(tuple_a)"
   ]
  },
  {
   "cell_type": "code",
   "execution_count": 73,
   "metadata": {},
   "outputs": [
    {
     "data": {
      "text/plain": [
       "(1, 2, 3, 4, 5, 6)"
      ]
     },
     "execution_count": 73,
     "metadata": {},
     "output_type": "execute_result"
    }
   ],
   "source": [
    "#15、tuple(list(1,2,3,4,5,6))\n",
    "a=(1,2,3,4,5,6)\n",
    "tuple(list(a))"
   ]
  },
  {
   "cell_type": "markdown",
   "metadata": {},
   "source": [
    "# 三、python运算语句"
   ]
  },
  {
   "cell_type": "markdown",
   "metadata": {},
   "source": [
    "## 3.1 运算符"
   ]
  },
  {
   "cell_type": "markdown",
   "metadata": {},
   "source": [
    "#1、算术运算符---+，-，*，/，%（返回两数相除的余数），**（求幂），//（返回两数相除商的整数部分）\n",
    "#2、比较运算符---==，！=，>,<,>=,<=\n",
    "#3、逻辑运算符---and,or,not"
   ]
  },
  {
   "cell_type": "markdown",
   "metadata": {},
   "source": [
    "## 3.2 循环语句"
   ]
  },
  {
   "cell_type": "code",
   "execution_count": 15,
   "metadata": {},
   "outputs": [
    {
     "name": "stdout",
     "output_type": "stream",
     "text": [
      "我目前正在学习：Excel\n",
      "我目前正在学习：SQL\n",
      "我目前正在学习：PYTHON\n",
      "我目前正在学习：统计学\n"
     ]
    }
   ],
   "source": [
    "#1、for循环---例子：一个数据分析是需要依次学习\"Excel\",\"SQL\",\"PYTHON\",\"统计学\"四大必备技能\n",
    "subject = [\"Excel\",\"SQL\",\"PYTHON\",\"统计学\"]\n",
    "for sub in subject:\n",
    "    print(\"我目前正在学习：{}\".format(sub))"
   ]
  },
  {
   "cell_type": "code",
   "execution_count": 16,
   "metadata": {},
   "outputs": [
    {
     "name": "stdout",
     "output_type": "stream",
     "text": [
      "我已经学习数据分析0周啦\n",
      "我已经学习数据分析1周啦\n",
      "我已经学习数据分析2周啦\n",
      "我已经学习数据分析3周啦\n",
      "我已经学习数据分析4周啦\n",
      "我已经学习数据分析5周啦\n",
      "我已经学习数据分析6周啦\n",
      "我已经学习数据分析7周啦\n",
      "我已经学习数据分析7周啦,我可以去找工作啦\n"
     ]
    }
   ],
   "source": [
    "#2、while循环---例子：七周成为数据分析师\n",
    "week=0 #从第0周开始\n",
    "while week<=7:\n",
    "    print(\"我已经学习数据分析{}周啦\".format(week))\n",
    "    week +=1\n",
    "print(\"我已经学习数据分析{}周啦,我可以去找工作啦\".format(week-1))"
   ]
  },
  {
   "cell_type": "markdown",
   "metadata": {},
   "source": [
    "## 3.3 条件语句"
   ]
  },
  {
   "cell_type": "code",
   "execution_count": 17,
   "metadata": {},
   "outputs": [
    {
     "name": "stdout",
     "output_type": "stream",
     "text": [
      "可以找到好工作\n"
     ]
    }
   ],
   "source": [
    "#1、if语句---例子：如果你好好学习数据分析师的必备技能，就能找到一份数据分析相关的工作\n",
    "is_study =1\n",
    "if is_study==1:\n",
    "    print(\"可以找到好工作\")"
   ]
  },
  {
   "cell_type": "code",
   "execution_count": 18,
   "metadata": {},
   "outputs": [],
   "source": [
    "is_study =1\n",
    "if is_study==0:\n",
    "    print(\"很难找到好工作\")"
   ]
  },
  {
   "cell_type": "code",
   "execution_count": 19,
   "metadata": {},
   "outputs": [
    {
     "name": "stdout",
     "output_type": "stream",
     "text": [
      "很难找到好工作\n"
     ]
    }
   ],
   "source": [
    "is_study =0\n",
    "if is_study==1:\n",
    "    print(\"可以找到好工作\")\n",
    "if is_study==0:\n",
    "    print(\"很难找到好工作\")"
   ]
  },
  {
   "cell_type": "code",
   "execution_count": 20,
   "metadata": {},
   "outputs": [
    {
     "name": "stdout",
     "output_type": "stream",
     "text": [
      "可以找到好工作\n"
     ]
    }
   ],
   "source": [
    "#2、else语句---例子：如果你好好学习数据分析师的必备技能，就能找到一份数据分析相关的工作，否则很难找到\n",
    "is_study =1\n",
    "if is_study==1:\n",
    "    print(\"可以找到好工作\")\n",
    "else:\n",
    "    print(\"很难找到好工作\")"
   ]
  },
  {
   "cell_type": "markdown",
   "metadata": {},
   "source": [
    "#3、elif语句---对多条语句进行判断，elif中可以有else语句，也可以没有，但是必须有if语句，具体执行顺序是先判断if后面的条件是否满足，如果满足\n",
    "则结束循环，如果不满足就继续去判断elif语句，但是只有0个或1个elif语句会被执行"
   ]
  },
  {
   "cell_type": "code",
   "execution_count": 21,
   "metadata": {},
   "outputs": [
    {
     "name": "stdout",
     "output_type": "stream",
     "text": [
      "70-80分\n"
     ]
    }
   ],
   "source": [
    "#例子：判断分数段，60以下-不及格，60-70，70-80，80-100\n",
    "score=78\n",
    "if score<60:\n",
    "    print(\"不及格\")\n",
    "elif score<70:\n",
    "    print(\"60-70分\")\n",
    "elif score<80:\n",
    "    print(\"70-80分\")\n",
    "else:\n",
    "    print(\"80-100分\")"
   ]
  },
  {
   "cell_type": "markdown",
   "metadata": {},
   "source": [
    "## 3.4 函数"
   ]
  },
  {
   "cell_type": "markdown",
   "metadata": {},
   "source": [
    "函数是在一个程序中可以被重复使用的一段程序，只要函数定义好以后，你就可以在程序中通过该名字调用执行这段程序。"
   ]
  },
  {
   "cell_type": "markdown",
   "metadata": {},
   "source": [
    "#1、普通函数\n",
    "普通函数一般由函数名（必需）、参数、语句块（必需）、return、变量这几部分组成。\n",
    "def 函数名（参数）：\n",
    "    语句块"
   ]
  },
  {
   "cell_type": "code",
   "execution_count": 22,
   "metadata": {},
   "outputs": [
    {
     "name": "stdout",
     "output_type": "stream",
     "text": [
      "我正在地铁上学习python\n"
     ]
    }
   ],
   "source": [
    "#定义一个简单函数\n",
    "def learn_python(location):\n",
    "    print(\"我正在{}上学习python\".format(location)) #语句块\n",
    "learn_python('地铁')"
   ]
  },
  {
   "cell_type": "code",
   "execution_count": 23,
   "metadata": {},
   "outputs": [
    {
     "name": "stdout",
     "output_type": "stream",
     "text": [
      "我正在公交车上学习python\n"
     ]
    }
   ],
   "source": [
    "learn_python('公交车')"
   ]
  },
  {
   "cell_type": "markdown",
   "metadata": {},
   "source": [
    "函数的参数有形参-如location和实参-如地铁；上面语句块直接执行了打印操作，没有返回值，我们也可以利用return对语句块的运行结果进行返回。"
   ]
  },
  {
   "cell_type": "code",
   "execution_count": 24,
   "metadata": {},
   "outputs": [
    {
     "data": {
      "text/plain": [
       "'我正在地铁上学习python'"
      ]
     },
     "execution_count": 24,
     "metadata": {},
     "output_type": "execute_result"
    }
   ],
   "source": [
    "#定义一个有返回值的函数\n",
    "def learn_python(location):\n",
    "    doing=(\"我正在{}上学习python\".format(location)) #将运行结果赋值给doing\n",
    "    return doing\n",
    "learn_python('地铁')"
   ]
  },
  {
   "cell_type": "code",
   "execution_count": 13,
   "metadata": {},
   "outputs": [
    {
     "data": {
      "text/plain": [
       "'我正在地铁上学习python,人很多'"
      ]
     },
     "execution_count": 13,
     "metadata": {},
     "output_type": "execute_result"
    }
   ],
   "source": [
    "#定义一个含有多个参数的函数\n",
    "def learn_python(location,people):\n",
    "    doing=(\"我正在{}上学习python,人{}\".format(location,people)) #将运行结果赋值给doing\n",
    "    return doing\n",
    "learn_python('地铁','很多')"
   ]
  },
  {
   "cell_type": "markdown",
   "metadata": {},
   "source": [
    "#2、匿名函数\n",
    "lambda arg1,arg2,arg3,...(具体的参数):expression（参数要执行的操作）"
   ]
  },
  {
   "cell_type": "code",
   "execution_count": 90,
   "metadata": {},
   "outputs": [
    {
     "data": {
      "text/plain": [
       "3"
      ]
     },
     "execution_count": 90,
     "metadata": {},
     "output_type": "execute_result"
    }
   ],
   "source": [
    "#普通函数\n",
    "def two_sum(x,y):\n",
    "    result=x+y\n",
    "    return result\n",
    "two_sum(1,2)"
   ]
  },
  {
   "cell_type": "code",
   "execution_count": 93,
   "metadata": {},
   "outputs": [
    {
     "data": {
      "text/plain": [
       "3"
      ]
     },
     "execution_count": 93,
     "metadata": {},
     "output_type": "execute_result"
    }
   ],
   "source": [
    "#匿名函数\n",
    "f = lambda x,y:x+y\n",
    "f(1,2)"
   ]
  },
  {
   "cell_type": "markdown",
   "metadata": {},
   "source": [
    "## 3.5 高级特性"
   ]
  },
  {
   "cell_type": "code",
   "execution_count": 94,
   "metadata": {},
   "outputs": [
    {
     "data": {
      "text/plain": [
       "[1, 4, 9, 16]"
      ]
     },
     "execution_count": 94,
     "metadata": {},
     "output_type": "execute_result"
    }
   ],
   "source": [
    "#1、列表生成式\n",
    "#需求1---对一个列表中的每个值求平方，然后将结果组成一个新列表\n",
    "#普通方法：\n",
    "num=[1,2,3,4]\n",
    "new=[] #创建一个新列表来存放计算后的结果\n",
    "for i in num:\n",
    "    new.append(i**2)\n",
    "new"
   ]
  },
  {
   "cell_type": "code",
   "execution_count": 95,
   "metadata": {},
   "outputs": [
    {
     "data": {
      "text/plain": [
       "[1, 4, 9, 16]"
      ]
     },
     "execution_count": 95,
     "metadata": {},
     "output_type": "execute_result"
    }
   ],
   "source": [
    "#列表生成式\n",
    "num=[1,2,3,4]\n",
    "[i**2 for i in num]"
   ]
  },
  {
   "cell_type": "code",
   "execution_count": 96,
   "metadata": {},
   "outputs": [
    {
     "data": {
      "text/plain": [
       "['Aa',\n",
       " 'Ab',\n",
       " 'Ac',\n",
       " 'Ad',\n",
       " 'Ba',\n",
       " 'Bb',\n",
       " 'Bc',\n",
       " 'Bd',\n",
       " 'Ca',\n",
       " 'Cb',\n",
       " 'Cc',\n",
       " 'Cd',\n",
       " 'Da',\n",
       " 'Db',\n",
       " 'Dc',\n",
       " 'Dd']"
      ]
     },
     "execution_count": 96,
     "metadata": {},
     "output_type": "execute_result"
    }
   ],
   "source": [
    "#需求2---现在有两个列表，需要把这两个表中的值两两组合，我们分别用普通方法和列表生成式实现\n",
    "#普通方法\n",
    "list1=['A','B','C','D']\n",
    "list2=['a','b','c','d']\n",
    "new=[]\n",
    "for i in list1:\n",
    "    for j in list2:\n",
    "        new.append(i+j)\n",
    "new"
   ]
  },
  {
   "cell_type": "code",
   "execution_count": 97,
   "metadata": {},
   "outputs": [
    {
     "data": {
      "text/plain": [
       "['Aa',\n",
       " 'Ab',\n",
       " 'Ac',\n",
       " 'Ad',\n",
       " 'Ba',\n",
       " 'Bb',\n",
       " 'Bc',\n",
       " 'Bd',\n",
       " 'Ca',\n",
       " 'Cb',\n",
       " 'Cc',\n",
       " 'Cd',\n",
       " 'Da',\n",
       " 'Db',\n",
       " 'Dc',\n",
       " 'Dd']"
      ]
     },
     "execution_count": 97,
     "metadata": {},
     "output_type": "execute_result"
    }
   ],
   "source": [
    "list1=['A','B','C','D']\n",
    "list2=['a','b','c','d']\n",
    "[i+j for i in list1 for j in list2]"
   ]
  },
  {
   "cell_type": "markdown",
   "metadata": {},
   "source": [
    "当数据量较大时，普通方法的for循环会嵌套太多程序，运行速度就会很慢。"
   ]
  },
  {
   "cell_type": "code",
   "execution_count": 20,
   "metadata": {},
   "outputs": [
    {
     "data": {
      "text/plain": [
       "<map at 0x10e6c3b70>"
      ]
     },
     "execution_count": 20,
     "metadata": {},
     "output_type": "execute_result"
    }
   ],
   "source": [
    "#2、map函数---map(函数名，参数)，表示对参数序列的每个值进行函数操作，最终得到一个结果序列；结果不能直接得到\n",
    "a=map(lambda x,y:x+y,[1,2,3],[3,2,1])\n",
    "a"
   ]
  },
  {
   "cell_type": "code",
   "execution_count": 21,
   "metadata": {},
   "outputs": [
    {
     "name": "stdout",
     "output_type": "stream",
     "text": [
      "4\n",
      "4\n",
      "4\n"
     ]
    }
   ],
   "source": [
    "#用for函数遍历结果\n",
    "for i in a:\n",
    "    print (i)"
   ]
  },
  {
   "cell_type": "code",
   "execution_count": 23,
   "metadata": {},
   "outputs": [
    {
     "data": {
      "text/plain": [
       "[4, 4, 4]"
      ]
     },
     "execution_count": 23,
     "metadata": {},
     "output_type": "execute_result"
    }
   ],
   "source": [
    "#用list函数\n",
    "b=list(map(lambda x,y:x+y,[1,2,3],[3,2,1]))\n",
    "b"
   ]
  },
  {
   "cell_type": "markdown",
   "metadata": {},
   "source": [
    "## 3.6 本关作业"
   ]
  },
  {
   "cell_type": "code",
   "execution_count": 2,
   "metadata": {},
   "outputs": [
    {
     "data": {
      "text/plain": [
       "0.3333333333333333"
      ]
     },
     "execution_count": 2,
     "metadata": {},
     "output_type": "execute_result"
    }
   ],
   "source": [
    "#1、1/3=？\n",
    "a=1.0/3\n",
    "a"
   ]
  },
  {
   "cell_type": "code",
   "execution_count": 3,
   "metadata": {},
   "outputs": [
    {
     "data": {
      "text/plain": [
       "4"
      ]
     },
     "execution_count": 3,
     "metadata": {},
     "output_type": "execute_result"
    }
   ],
   "source": [
    "#2、2**2=？\n",
    "b=2**2\n",
    "b"
   ]
  },
  {
   "cell_type": "code",
   "execution_count": 4,
   "metadata": {},
   "outputs": [
    {
     "data": {
      "text/plain": [
       "3"
      ]
     },
     "execution_count": 4,
     "metadata": {},
     "output_type": "execute_result"
    }
   ],
   "source": [
    "#3、10//3=?\n",
    "c=10//3\n",
    "c"
   ]
  },
  {
   "cell_type": "code",
   "execution_count": 5,
   "metadata": {},
   "outputs": [
    {
     "data": {
      "text/plain": [
       "False"
      ]
     },
     "execution_count": 5,
     "metadata": {},
     "output_type": "execute_result"
    }
   ],
   "source": [
    "#4、若a=1,b=2，则a==b，a!=b的结果是？\n",
    "a=1\n",
    "b=2\n",
    "a==b"
   ]
  },
  {
   "cell_type": "code",
   "execution_count": 6,
   "metadata": {},
   "outputs": [
    {
     "data": {
      "text/plain": [
       "True"
      ]
     },
     "execution_count": 6,
     "metadata": {},
     "output_type": "execute_result"
    }
   ],
   "source": [
    "a!=b"
   ]
  },
  {
   "cell_type": "code",
   "execution_count": 8,
   "metadata": {},
   "outputs": [
    {
     "data": {
      "text/plain": [
       "True"
      ]
     },
     "execution_count": 8,
     "metadata": {},
     "output_type": "execute_result"
    }
   ],
   "source": [
    "#5、表达式(1<2) and(type(1/2)==float)的结果？\n",
    "1<2"
   ]
  },
  {
   "cell_type": "code",
   "execution_count": 9,
   "metadata": {},
   "outputs": [
    {
     "data": {
      "text/plain": [
       "True"
      ]
     },
     "execution_count": 9,
     "metadata": {},
     "output_type": "execute_result"
    }
   ],
   "source": [
    "type(1/2)==float"
   ]
  },
  {
   "cell_type": "code",
   "execution_count": 10,
   "metadata": {},
   "outputs": [
    {
     "data": {
      "text/plain": [
       "float"
      ]
     },
     "execution_count": 10,
     "metadata": {},
     "output_type": "execute_result"
    }
   ],
   "source": [
    "#6-7、type(13/4)=? type(13//4)=? \n",
    "type(13/4)"
   ]
  },
  {
   "cell_type": "code",
   "execution_count": 11,
   "metadata": {},
   "outputs": [
    {
     "data": {
      "text/plain": [
       "int"
      ]
     },
     "execution_count": 11,
     "metadata": {},
     "output_type": "execute_result"
    }
   ],
   "source": [
    "type(13//4)"
   ]
  },
  {
   "cell_type": "code",
   "execution_count": 25,
   "metadata": {},
   "outputs": [
    {
     "name": "stdout",
     "output_type": "stream",
     "text": [
      "依次打印a\n",
      "依次打印b\n",
      "依次打印c\n",
      "依次打印d\n"
     ]
    }
   ],
   "source": [
    "#8、利用for循环打印输出列表['a','b','c','d']中的每个值\n",
    "list_8=[\"a\",\"b\",\"c\",\"d\"]\n",
    "for list_88 in list_8:\n",
    "    print(\"依次打印{}\".format(list_88))"
   ]
  },
  {
   "cell_type": "code",
   "execution_count": 27,
   "metadata": {},
   "outputs": [
    {
     "data": {
      "text/plain": [
       "[1, 4, 9, 16, 25, 36]"
      ]
     },
     "execution_count": 27,
     "metadata": {},
     "output_type": "execute_result"
    }
   ],
   "source": [
    "#9、利用for循环打印输出列表[1,2,3,4,5,6]中每个数的平方。\n",
    "num_9=[1,2,3,4,5,6]\n",
    "new_9=[] #创建一个新列表来存放计算后的结果\n",
    "for i in num_9:\n",
    "    new_9.append(i**2)\n",
    "new_9"
   ]
  },
  {
   "cell_type": "code",
   "execution_count": 1,
   "metadata": {},
   "outputs": [
    {
     "name": "stdout",
     "output_type": "stream",
     "text": [
      "偶数0\n",
      "偶数2\n",
      "偶数4\n",
      "偶数6\n",
      "偶数8\n",
      "偶数10\n",
      "偶数12\n",
      "偶数14\n",
      "偶数16\n",
      "偶数18\n",
      "偶数20\n",
      "小于20的偶数都打印完啦\n"
     ]
    }
   ],
   "source": [
    "#10、利用while循环，将小于20的自然数中为偶数的数打印出来\n",
    "num=0 #从0开始\n",
    "while num<=20:\n",
    "    if num % 2 ==0:\n",
    "        print(\"偶数{}\".format(num))\n",
    "    num +=1\n",
    "print(\"小于20的偶数都打印完啦\")"
   ]
  },
  {
   "cell_type": "code",
   "execution_count": 7,
   "metadata": {},
   "outputs": [
    {
     "name": "stdout",
     "output_type": "stream",
     "text": [
      "偶数2\n",
      "偶数4\n",
      "偶数6\n",
      "偶数8\n",
      "偶数10\n",
      "小于10的偶数都打印完啦\n"
     ]
    }
   ],
   "source": [
    "#11、elif是哪两个关键词的缩写---else和if\n",
    "#12-13、利用for循环和if条件语句，将小于10的自然数中为偶数的数打印出来\n",
    "num2=[1,2,3,4,5,6,7,8,9,10]\n",
    "for i in num2:\n",
    "    if i % 2 ==0:\n",
    "        print(\"偶数{}\".format(i))\n",
    "print(\"小于10的偶数都打印完啦\")"
   ]
  },
  {
   "cell_type": "code",
   "execution_count": 10,
   "metadata": {},
   "outputs": [
    {
     "data": {
      "text/plain": [
       "[4, 16, 36, 64, 100]"
      ]
     },
     "execution_count": 10,
     "metadata": {},
     "output_type": "execute_result"
    }
   ],
   "source": [
    "#14、利用for循环和if条件语句，将小于10的自然数中为偶数的平方打印出来\n",
    "num14=[1,2,3,4,5,6,7,8,9,10]\n",
    "new14=[]\n",
    "for i in num14:\n",
    "    if i % 2 ==0:\n",
    "        new14.append(i**2)\n",
    "new14"
   ]
  },
  {
   "cell_type": "markdown",
   "metadata": {},
   "source": [
    "#15-16、定义函数的关键词-def,是否必须要有参数-否\n",
    "#17、函数的return作用？---对函数语句块的结果进行返回，然后可以用来保存进行再计算等\n",
    "#18、如何调用一个已经创建好的函数？---函数名（参数）\n",
    "#19-21、匿名函数使用的关键词是什么？---lambda；与普通函数有什么不同-没有函数名；匿名函数的表达式？-匿名函数 lambda arg1,arg2,arg3,...(具体的参数):expression（参数要执行的操作）"
   ]
  },
  {
   "cell_type": "code",
   "execution_count": 11,
   "metadata": {},
   "outputs": [
    {
     "data": {
      "text/plain": [
       "8"
      ]
     },
     "execution_count": 11,
     "metadata": {},
     "output_type": "execute_result"
    }
   ],
   "source": [
    "#22、编写匿名函数，输入任意一个数值，返回该数值的2倍\n",
    "f=lambda x:x*2\n",
    "f(4)"
   ]
  },
  {
   "cell_type": "code",
   "execution_count": 13,
   "metadata": {},
   "outputs": [
    {
     "data": {
      "text/plain": [
       "['1', '2', '3', '4']"
      ]
     },
     "execution_count": 13,
     "metadata": {},
     "output_type": "execute_result"
    }
   ],
   "source": [
    "#23、利用列表生成式，获取列表['1a','2b','3c','4d']中每个数据元素的第一个值生成一个列表\n",
    "rows=['1a','2b','3c','4d']\n",
    "res_list = [x[0] for x in rows]\n",
    "res_list"
   ]
  },
  {
   "cell_type": "code",
   "execution_count": 14,
   "metadata": {},
   "outputs": [
    {
     "data": {
      "text/plain": [
       "'1'"
      ]
     },
     "execution_count": 14,
     "metadata": {},
     "output_type": "execute_result"
    }
   ],
   "source": [
    "'1a'[0]"
   ]
  },
  {
   "cell_type": "code",
   "execution_count": 66,
   "metadata": {},
   "outputs": [
    {
     "data": {
      "text/plain": [
       "['1a', '2a', '3a', '4a']"
      ]
     },
     "execution_count": 66,
     "metadata": {},
     "output_type": "execute_result"
    }
   ],
   "source": [
    "#24、map函数的表达式？-map(函数名，参数)，表示对参数序列的每个值进行函数操作，最终得到一个结果序列\n",
    "#25、map函数的结果可以直接打印吗？-不可以，需要结合for和lis函数\n",
    "#26、利用map函数，对序列[1,2,3,4]中的每一个字符都加一个字符a\n",
    "a26=['1','2','3','4']\n",
    "b26=list(map(lambda x:x+'a',a26))\n",
    "b26"
   ]
  },
  {
   "cell_type": "code",
   "execution_count": 68,
   "metadata": {},
   "outputs": [
    {
     "data": {
      "text/plain": [
       "['1a', '2a', '3a', '4a']"
      ]
     },
     "execution_count": 68,
     "metadata": {},
     "output_type": "execute_result"
    }
   ],
   "source": [
    "a27=[1,2,3,4]\n",
    "b = [str(i) for i in a27]\n",
    "c=list(map(lambda x:x+'a',b))\n",
    "c"
   ]
  },
  {
   "cell_type": "markdown",
   "metadata": {},
   "source": [
    "# 四、python重要模块"
   ]
  },
  {
   "cell_type": "markdown",
   "metadata": {},
   "source": [
    "模块是升级版的函数，我们定义的函数，必需在定义的程序里面才能调用，而模块可以在任意程序里面通过模块名调用。\n",
    "我们调用函数首先要先定义一个函数，同理，我们调用模块首先要导入模块。\n",
    "import module_name #直接导入具体模块名;\n",
    "from module1 import mpdul2 #从一个较大模块中导入一个较小的模块;\n",
    "python中常用的3个模块是，Pandas\\Numpy\\matplotlib"
   ]
  },
  {
   "cell_type": "code",
   "execution_count": 1,
   "metadata": {},
   "outputs": [],
   "source": [
    "#导入模块\n",
    "import pandas as pd\n",
    "import numpy as np\n",
    "import matplotlib.pyplot as plt"
   ]
  },
  {
   "cell_type": "markdown",
   "metadata": {},
   "source": [
    "# 4.1 Pandas数据结构"
   ]
  },
  {
   "cell_type": "markdown",
   "metadata": {},
   "source": [
    "1、Series数据结构"
   ]
  },
  {
   "cell_type": "markdown",
   "metadata": {},
   "source": [
    "1）series是一种类似于一维数组的对象，由一组数据及一组与之相关的数据标签（即索引）组成。\n",
    "2）创建一个series的方法是pd.Series(),通过Series()方法传人不同的对象（列表、字典、元组）。"
   ]
  },
  {
   "cell_type": "code",
   "execution_count": 2,
   "metadata": {},
   "outputs": [
    {
     "data": {
      "text/plain": [
       "0    a\n",
       "1    b\n",
       "2    c\n",
       "dtype: object"
      ]
     },
     "execution_count": 2,
     "metadata": {},
     "output_type": "execute_result"
    }
   ],
   "source": [
    "#传人一个列表(未设置索引使用默认索引，从0开始)\n",
    "import pandas as pd\n",
    "s1=pd.Series(['a','b','c'])\n",
    "s1"
   ]
  },
  {
   "cell_type": "code",
   "execution_count": 4,
   "metadata": {},
   "outputs": [
    {
     "data": {
      "text/plain": [
       "1    a\n",
       "2    b\n",
       "3    c\n",
       "dtype: object"
      ]
     },
     "execution_count": 4,
     "metadata": {},
     "output_type": "execute_result"
    }
   ],
   "source": [
    "#传人一个列表(设置索引)\n",
    "s2=pd.Series(['a','b','c'],index=[1,2,3])\n",
    "s2"
   ]
  },
  {
   "cell_type": "code",
   "execution_count": 5,
   "metadata": {},
   "outputs": [
    {
     "data": {
      "text/plain": [
       "a    1\n",
       "b    2\n",
       "c    3\n",
       "dtype: int64"
      ]
     },
     "execution_count": 5,
     "metadata": {},
     "output_type": "execute_result"
    }
   ],
   "source": [
    "#传人一个字典\n",
    "s3=pd.Series({'a':1,'b':2,'c':3})\n",
    "s3"
   ]
  },
  {
   "cell_type": "markdown",
   "metadata": {},
   "source": [
    "3）获取Series的索引---index"
   ]
  },
  {
   "cell_type": "code",
   "execution_count": 8,
   "metadata": {},
   "outputs": [
    {
     "data": {
      "text/plain": [
       "RangeIndex(start=0, stop=3, step=1)"
      ]
     },
     "execution_count": 8,
     "metadata": {},
     "output_type": "execute_result"
    }
   ],
   "source": [
    "s1.index"
   ]
  },
  {
   "cell_type": "code",
   "execution_count": 9,
   "metadata": {},
   "outputs": [
    {
     "data": {
      "text/plain": [
       "Int64Index([1, 2, 3], dtype='int64')"
      ]
     },
     "execution_count": 9,
     "metadata": {},
     "output_type": "execute_result"
    }
   ],
   "source": [
    "s2.index"
   ]
  },
  {
   "cell_type": "markdown",
   "metadata": {},
   "source": [
    "4)获取Series的值--values"
   ]
  },
  {
   "cell_type": "code",
   "execution_count": 10,
   "metadata": {},
   "outputs": [
    {
     "data": {
      "text/plain": [
       "array(['a', 'b', 'c'], dtype=object)"
      ]
     },
     "execution_count": 10,
     "metadata": {},
     "output_type": "execute_result"
    }
   ],
   "source": [
    "s1.values"
   ]
  },
  {
   "cell_type": "code",
   "execution_count": 11,
   "metadata": {},
   "outputs": [
    {
     "data": {
      "text/plain": [
       "array([1, 2, 3])"
      ]
     },
     "execution_count": 11,
     "metadata": {},
     "output_type": "execute_result"
    }
   ],
   "source": [
    "s3.values"
   ]
  },
  {
   "cell_type": "markdown",
   "metadata": {},
   "source": [
    "2、DataFrame数据结构"
   ]
  },
  {
   "cell_type": "markdown",
   "metadata": {},
   "source": [
    "1）DataFrame是由一组数据和一对索引（行索引+列索引）组成的表格型数据结构，它与excel的数据存储形式很相近。"
   ]
  },
  {
   "cell_type": "markdown",
   "metadata": {},
   "source": [
    "2）创建DataFrame使用的方法是pd.DataFrame(),通过给DataFrame()传人不同的对象（列表、字典、元组）。"
   ]
  },
  {
   "cell_type": "code",
   "execution_count": 12,
   "metadata": {},
   "outputs": [
    {
     "data": {
      "text/html": [
       "<div>\n",
       "<style scoped>\n",
       "    .dataframe tbody tr th:only-of-type {\n",
       "        vertical-align: middle;\n",
       "    }\n",
       "\n",
       "    .dataframe tbody tr th {\n",
       "        vertical-align: top;\n",
       "    }\n",
       "\n",
       "    .dataframe thead th {\n",
       "        text-align: right;\n",
       "    }\n",
       "</style>\n",
       "<table border=\"1\" class=\"dataframe\">\n",
       "  <thead>\n",
       "    <tr style=\"text-align: right;\">\n",
       "      <th></th>\n",
       "      <th>0</th>\n",
       "    </tr>\n",
       "  </thead>\n",
       "  <tbody>\n",
       "    <tr>\n",
       "      <th>0</th>\n",
       "      <td>a</td>\n",
       "    </tr>\n",
       "    <tr>\n",
       "      <th>1</th>\n",
       "      <td>b</td>\n",
       "    </tr>\n",
       "    <tr>\n",
       "      <th>2</th>\n",
       "      <td>c</td>\n",
       "    </tr>\n",
       "  </tbody>\n",
       "</table>\n",
       "</div>"
      ],
      "text/plain": [
       "   0\n",
       "0  a\n",
       "1  b\n",
       "2  c"
      ]
     },
     "execution_count": 12,
     "metadata": {},
     "output_type": "execute_result"
    }
   ],
   "source": [
    "#传入一个列表(未设置索引使用默认索引，行列索引都是从0开始)\n",
    "import pandas as pd\n",
    "df1 = pd.DataFrame(['a','b','c'])\n",
    "df1"
   ]
  },
  {
   "cell_type": "code",
   "execution_count": 14,
   "metadata": {},
   "outputs": [
    {
     "data": {
      "text/html": [
       "<div>\n",
       "<style scoped>\n",
       "    .dataframe tbody tr th:only-of-type {\n",
       "        vertical-align: middle;\n",
       "    }\n",
       "\n",
       "    .dataframe tbody tr th {\n",
       "        vertical-align: top;\n",
       "    }\n",
       "\n",
       "    .dataframe thead th {\n",
       "        text-align: right;\n",
       "    }\n",
       "</style>\n",
       "<table border=\"1\" class=\"dataframe\">\n",
       "  <thead>\n",
       "    <tr style=\"text-align: right;\">\n",
       "      <th></th>\n",
       "      <th>0</th>\n",
       "      <th>1</th>\n",
       "    </tr>\n",
       "  </thead>\n",
       "  <tbody>\n",
       "    <tr>\n",
       "      <th>0</th>\n",
       "      <td>a</td>\n",
       "      <td>A</td>\n",
       "    </tr>\n",
       "    <tr>\n",
       "      <th>1</th>\n",
       "      <td>b</td>\n",
       "      <td>B</td>\n",
       "    </tr>\n",
       "    <tr>\n",
       "      <th>2</th>\n",
       "      <td>c</td>\n",
       "      <td>C</td>\n",
       "    </tr>\n",
       "  </tbody>\n",
       "</table>\n",
       "</div>"
      ],
      "text/plain": [
       "   0  1\n",
       "0  a  A\n",
       "1  b  B\n",
       "2  c  C"
      ]
     },
     "execution_count": 14,
     "metadata": {},
     "output_type": "execute_result"
    }
   ],
   "source": [
    "#传人一个嵌套列表\n",
    "df2 = pd.DataFrame([['a','A'],['b','B'],['c','C']])\n",
    "df2"
   ]
  },
  {
   "cell_type": "code",
   "execution_count": 15,
   "metadata": {},
   "outputs": [
    {
     "data": {
      "text/html": [
       "<div>\n",
       "<style scoped>\n",
       "    .dataframe tbody tr th:only-of-type {\n",
       "        vertical-align: middle;\n",
       "    }\n",
       "\n",
       "    .dataframe tbody tr th {\n",
       "        vertical-align: top;\n",
       "    }\n",
       "\n",
       "    .dataframe thead th {\n",
       "        text-align: right;\n",
       "    }\n",
       "</style>\n",
       "<table border=\"1\" class=\"dataframe\">\n",
       "  <thead>\n",
       "    <tr style=\"text-align: right;\">\n",
       "      <th></th>\n",
       "      <th>小写</th>\n",
       "      <th>大写</th>\n",
       "    </tr>\n",
       "  </thead>\n",
       "  <tbody>\n",
       "    <tr>\n",
       "      <th>一</th>\n",
       "      <td>a</td>\n",
       "      <td>A</td>\n",
       "    </tr>\n",
       "    <tr>\n",
       "      <th>二</th>\n",
       "      <td>b</td>\n",
       "      <td>B</td>\n",
       "    </tr>\n",
       "    <tr>\n",
       "      <th>三</th>\n",
       "      <td>c</td>\n",
       "      <td>C</td>\n",
       "    </tr>\n",
       "  </tbody>\n",
       "</table>\n",
       "</div>"
      ],
      "text/plain": [
       "  小写 大写\n",
       "一  a  A\n",
       "二  b  B\n",
       "三  c  C"
      ]
     },
     "execution_count": 15,
     "metadata": {},
     "output_type": "execute_result"
    }
   ],
   "source": [
    "#传人一个嵌套列表（设置行列索引）\n",
    "df3 = pd.DataFrame([['a','A'],['b','B'],['c','C']],columns=['小写','大写'],index=['一','二','三'])\n",
    "df3"
   ]
  },
  {
   "cell_type": "code",
   "execution_count": 17,
   "metadata": {},
   "outputs": [
    {
     "data": {
      "text/html": [
       "<div>\n",
       "<style scoped>\n",
       "    .dataframe tbody tr th:only-of-type {\n",
       "        vertical-align: middle;\n",
       "    }\n",
       "\n",
       "    .dataframe tbody tr th {\n",
       "        vertical-align: top;\n",
       "    }\n",
       "\n",
       "    .dataframe thead th {\n",
       "        text-align: right;\n",
       "    }\n",
       "</style>\n",
       "<table border=\"1\" class=\"dataframe\">\n",
       "  <thead>\n",
       "    <tr style=\"text-align: right;\">\n",
       "      <th></th>\n",
       "      <th>小写</th>\n",
       "      <th>大写</th>\n",
       "    </tr>\n",
       "  </thead>\n",
       "  <tbody>\n",
       "    <tr>\n",
       "      <th>0</th>\n",
       "      <td>a</td>\n",
       "      <td>A</td>\n",
       "    </tr>\n",
       "    <tr>\n",
       "      <th>1</th>\n",
       "      <td>b</td>\n",
       "      <td>B</td>\n",
       "    </tr>\n",
       "  </tbody>\n",
       "</table>\n",
       "</div>"
      ],
      "text/plain": [
       "  小写 大写\n",
       "0  a  A\n",
       "1  b  B"
      ]
     },
     "execution_count": 17,
     "metadata": {},
     "output_type": "execute_result"
    }
   ],
   "source": [
    "#传人一个字典,字典的key值就相当于列索引，行索引index可以默认从0开始，也可以自己设置\n",
    "data={'小写':['a','b'],'大写':['A','B']}\n",
    "df4=pd.DataFrame(data)\n",
    "df4"
   ]
  },
  {
   "cell_type": "markdown",
   "metadata": {},
   "source": [
    "3）获取DataFrame的行index,列columns索引"
   ]
  },
  {
   "cell_type": "code",
   "execution_count": 18,
   "metadata": {},
   "outputs": [
    {
     "data": {
      "text/plain": [
       "RangeIndex(start=0, stop=2, step=1)"
      ]
     },
     "execution_count": 18,
     "metadata": {},
     "output_type": "execute_result"
    }
   ],
   "source": [
    "df2.columns"
   ]
  },
  {
   "cell_type": "code",
   "execution_count": 19,
   "metadata": {},
   "outputs": [
    {
     "data": {
      "text/plain": [
       "RangeIndex(start=0, stop=3, step=1)"
      ]
     },
     "execution_count": 19,
     "metadata": {},
     "output_type": "execute_result"
    }
   ],
   "source": [
    "df2.index"
   ]
  },
  {
   "cell_type": "code",
   "execution_count": 20,
   "metadata": {},
   "outputs": [
    {
     "data": {
      "text/plain": [
       "Index(['小写', '大写'], dtype='object')"
      ]
     },
     "execution_count": 20,
     "metadata": {},
     "output_type": "execute_result"
    }
   ],
   "source": [
    "df3.columns"
   ]
  },
  {
   "cell_type": "markdown",
   "metadata": {},
   "source": [
    "df3.index"
   ]
  },
  {
   "cell_type": "markdown",
   "metadata": {},
   "source": [
    "4)获取DataFrame的值：行列选择会在后续讲解"
   ]
  },
  {
   "cell_type": "markdown",
   "metadata": {},
   "source": [
    "3、本关作业"
   ]
  },
  {
   "cell_type": "markdown",
   "metadata": {},
   "source": [
    "1）DataFrame的索引分为哪两种？---行列索引\n",
    "2）获取df表的行列索引的代码是？---index,columns\n",
    "3) 可以给pd.DataFrame()传入什么数据结构来新建一个DataFrame?---列表、元组、字典"
   ]
  },
  {
   "cell_type": "code",
   "execution_count": null,
   "metadata": {},
   "outputs": [],
   "source": []
  }
 ],
 "metadata": {
  "kernelspec": {
   "display_name": "Python 3",
   "language": "python",
   "name": "python3"
  },
  "language_info": {
   "codemirror_mode": {
    "name": "ipython",
    "version": 3
   },
   "file_extension": ".py",
   "mimetype": "text/x-python",
   "name": "python",
   "nbconvert_exporter": "python",
   "pygments_lexer": "ipython3",
   "version": "3.7.3"
  }
 },
 "nbformat": 4,
 "nbformat_minor": 2
}
